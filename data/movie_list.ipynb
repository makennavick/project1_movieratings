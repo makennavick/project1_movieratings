{
 "cells": [
  {
   "cell_type": "code",
   "execution_count": 1,
   "id": "0d8c4687",
   "metadata": {},
   "outputs": [],
   "source": [
    "import pandas as pd\n",
    "from pathlib import Path"
   ]
  },
  {
   "cell_type": "code",
   "execution_count": 2,
   "id": "806f336a",
   "metadata": {
    "scrolled": true
   },
   "outputs": [
    {
     "name": "stderr",
     "output_type": "stream",
     "text": [
      "/var/folders/gf/hc_hshm92zgfnkr16xjn90700000gn/T/ipykernel_49287/1534499445.py:3: DtypeWarning: Columns (4) have mixed types. Specify dtype option on import or set low_memory=False.\n",
      "  df = pd.read_csv(data_file, sep='\\t')\n"
     ]
    },
    {
     "data": {
      "text/html": [
       "<div>\n",
       "<style scoped>\n",
       "    .dataframe tbody tr th:only-of-type {\n",
       "        vertical-align: middle;\n",
       "    }\n",
       "\n",
       "    .dataframe tbody tr th {\n",
       "        vertical-align: top;\n",
       "    }\n",
       "\n",
       "    .dataframe thead th {\n",
       "        text-align: right;\n",
       "    }\n",
       "</style>\n",
       "<table border=\"1\" class=\"dataframe\">\n",
       "  <thead>\n",
       "    <tr style=\"text-align: right;\">\n",
       "      <th></th>\n",
       "      <th>tconst</th>\n",
       "      <th>titleType</th>\n",
       "      <th>primaryTitle</th>\n",
       "      <th>originalTitle</th>\n",
       "      <th>isAdult</th>\n",
       "      <th>startYear</th>\n",
       "      <th>endYear</th>\n",
       "      <th>runtimeMinutes</th>\n",
       "      <th>genres</th>\n",
       "    </tr>\n",
       "  </thead>\n",
       "  <tbody>\n",
       "    <tr>\n",
       "      <th>0</th>\n",
       "      <td>tt0000001</td>\n",
       "      <td>short</td>\n",
       "      <td>Carmencita</td>\n",
       "      <td>Carmencita</td>\n",
       "      <td>0</td>\n",
       "      <td>1894</td>\n",
       "      <td>\\N</td>\n",
       "      <td>1</td>\n",
       "      <td>Documentary,Short</td>\n",
       "    </tr>\n",
       "    <tr>\n",
       "      <th>1</th>\n",
       "      <td>tt0000002</td>\n",
       "      <td>short</td>\n",
       "      <td>Le clown et ses chiens</td>\n",
       "      <td>Le clown et ses chiens</td>\n",
       "      <td>0</td>\n",
       "      <td>1892</td>\n",
       "      <td>\\N</td>\n",
       "      <td>5</td>\n",
       "      <td>Animation,Short</td>\n",
       "    </tr>\n",
       "    <tr>\n",
       "      <th>2</th>\n",
       "      <td>tt0000003</td>\n",
       "      <td>short</td>\n",
       "      <td>Poor Pierrot</td>\n",
       "      <td>Pauvre Pierrot</td>\n",
       "      <td>0</td>\n",
       "      <td>1892</td>\n",
       "      <td>\\N</td>\n",
       "      <td>5</td>\n",
       "      <td>Animation,Comedy,Romance</td>\n",
       "    </tr>\n",
       "    <tr>\n",
       "      <th>3</th>\n",
       "      <td>tt0000004</td>\n",
       "      <td>short</td>\n",
       "      <td>Un bon bock</td>\n",
       "      <td>Un bon bock</td>\n",
       "      <td>0</td>\n",
       "      <td>1892</td>\n",
       "      <td>\\N</td>\n",
       "      <td>12</td>\n",
       "      <td>Animation,Short</td>\n",
       "    </tr>\n",
       "    <tr>\n",
       "      <th>4</th>\n",
       "      <td>tt0000005</td>\n",
       "      <td>short</td>\n",
       "      <td>Blacksmith Scene</td>\n",
       "      <td>Blacksmith Scene</td>\n",
       "      <td>0</td>\n",
       "      <td>1893</td>\n",
       "      <td>\\N</td>\n",
       "      <td>1</td>\n",
       "      <td>Comedy,Short</td>\n",
       "    </tr>\n",
       "  </tbody>\n",
       "</table>\n",
       "</div>"
      ],
      "text/plain": [
       "      tconst titleType            primaryTitle           originalTitle  \\\n",
       "0  tt0000001     short              Carmencita              Carmencita   \n",
       "1  tt0000002     short  Le clown et ses chiens  Le clown et ses chiens   \n",
       "2  tt0000003     short            Poor Pierrot          Pauvre Pierrot   \n",
       "3  tt0000004     short             Un bon bock             Un bon bock   \n",
       "4  tt0000005     short        Blacksmith Scene        Blacksmith Scene   \n",
       "\n",
       "  isAdult startYear endYear runtimeMinutes                    genres  \n",
       "0       0      1894      \\N              1         Documentary,Short  \n",
       "1       0      1892      \\N              5           Animation,Short  \n",
       "2       0      1892      \\N              5  Animation,Comedy,Romance  \n",
       "3       0      1892      \\N             12           Animation,Short  \n",
       "4       0      1893      \\N              1              Comedy,Short  "
      ]
     },
     "execution_count": 2,
     "metadata": {},
     "output_type": "execute_result"
    }
   ],
   "source": [
    "# Read in tsv file, must use sep='\\t'\n",
    "data_file = Path(\"../../title.basics.tsv\")\n",
    "df = pd.read_csv(data_file, sep='\\t')\n",
    "df.head()"
   ]
  },
  {
   "cell_type": "code",
   "execution_count": 3,
   "id": "dd214b0a",
   "metadata": {},
   "outputs": [
    {
     "data": {
      "text/plain": [
       "tconst            11228162\n",
       "titleType         11228162\n",
       "primaryTitle      11228143\n",
       "originalTitle     11228143\n",
       "isAdult           11228162\n",
       "startYear         11228162\n",
       "endYear           11228162\n",
       "runtimeMinutes    11228162\n",
       "genres            11227530\n",
       "dtype: int64"
      ]
     },
     "execution_count": 3,
     "metadata": {},
     "output_type": "execute_result"
    }
   ],
   "source": [
    "df.count()"
   ]
  },
  {
   "cell_type": "code",
   "execution_count": 4,
   "id": "e1d7134d",
   "metadata": {},
   "outputs": [
    {
     "data": {
      "text/plain": [
       "tconst            11227511\n",
       "titleType         11227511\n",
       "primaryTitle      11227511\n",
       "originalTitle     11227511\n",
       "isAdult           11227511\n",
       "startYear         11227511\n",
       "endYear           11227511\n",
       "runtimeMinutes    11227511\n",
       "genres            11227511\n",
       "dtype: int64"
      ]
     },
     "execution_count": 4,
     "metadata": {},
     "output_type": "execute_result"
    }
   ],
   "source": [
    "# Drop na rows\n",
    "df = df.dropna(how='any')\n",
    "df.count()"
   ]
  },
  {
   "cell_type": "code",
   "execution_count": 5,
   "id": "949a91ea",
   "metadata": {},
   "outputs": [
    {
     "data": {
      "text/plain": [
       "tconst            9810921\n",
       "titleType         9810921\n",
       "primaryTitle      9810921\n",
       "originalTitle     9810921\n",
       "isAdult           9810921\n",
       "startYear         9810921\n",
       "endYear           9810921\n",
       "runtimeMinutes    9810921\n",
       "genres            9810921\n",
       "dtype: int64"
      ]
     },
     "execution_count": 5,
     "metadata": {},
     "output_type": "execute_result"
    }
   ],
   "source": [
    "# Lots of '\\\\N' values in column\n",
    "# drop '\\\\N'\n",
    "df = df.loc[(df[\"startYear\"] != '\\\\N'), :]\n",
    "df.count()"
   ]
  },
  {
   "cell_type": "code",
   "execution_count": 6,
   "id": "f71eed4d",
   "metadata": {},
   "outputs": [],
   "source": [
    "# Convert column from string to integer\n",
    "df['startYear'] = df['startYear'].astype(int)"
   ]
  },
  {
   "cell_type": "code",
   "execution_count": 7,
   "id": "2fcca4ff",
   "metadata": {},
   "outputs": [
    {
     "data": {
      "text/html": [
       "<div>\n",
       "<style scoped>\n",
       "    .dataframe tbody tr th:only-of-type {\n",
       "        vertical-align: middle;\n",
       "    }\n",
       "\n",
       "    .dataframe tbody tr th {\n",
       "        vertical-align: top;\n",
       "    }\n",
       "\n",
       "    .dataframe thead th {\n",
       "        text-align: right;\n",
       "    }\n",
       "</style>\n",
       "<table border=\"1\" class=\"dataframe\">\n",
       "  <thead>\n",
       "    <tr style=\"text-align: right;\">\n",
       "      <th></th>\n",
       "      <th>tconst</th>\n",
       "      <th>titleType</th>\n",
       "      <th>primaryTitle</th>\n",
       "      <th>originalTitle</th>\n",
       "      <th>isAdult</th>\n",
       "      <th>startYear</th>\n",
       "      <th>endYear</th>\n",
       "      <th>runtimeMinutes</th>\n",
       "      <th>genres</th>\n",
       "    </tr>\n",
       "  </thead>\n",
       "  <tbody>\n",
       "    <tr>\n",
       "      <th>11632</th>\n",
       "      <td>tt0011801</td>\n",
       "      <td>movie</td>\n",
       "      <td>Tötet nicht mehr</td>\n",
       "      <td>Tötet nicht mehr</td>\n",
       "      <td>0</td>\n",
       "      <td>2019</td>\n",
       "      <td>\\N</td>\n",
       "      <td>\\N</td>\n",
       "      <td>Action,Crime</td>\n",
       "    </tr>\n",
       "    <tr>\n",
       "      <th>49484</th>\n",
       "      <td>tt0050396</td>\n",
       "      <td>short</td>\n",
       "      <td>Final Curtain</td>\n",
       "      <td>Final Curtain</td>\n",
       "      <td>0</td>\n",
       "      <td>2012</td>\n",
       "      <td>\\N</td>\n",
       "      <td>22</td>\n",
       "      <td>Horror,Short</td>\n",
       "    </tr>\n",
       "    <tr>\n",
       "      <th>59192</th>\n",
       "      <td>tt0060361</td>\n",
       "      <td>short</td>\n",
       "      <td>EMS nr 1</td>\n",
       "      <td>EMS nr 1</td>\n",
       "      <td>0</td>\n",
       "      <td>2016</td>\n",
       "      <td>\\N</td>\n",
       "      <td>14</td>\n",
       "      <td>Short</td>\n",
       "    </tr>\n",
       "    <tr>\n",
       "      <th>63738</th>\n",
       "      <td>tt0065047</td>\n",
       "      <td>short</td>\n",
       "      <td>The Sun's Gonna Shine</td>\n",
       "      <td>The Sun's Gonna Shine</td>\n",
       "      <td>0</td>\n",
       "      <td>2014</td>\n",
       "      <td>\\N</td>\n",
       "      <td>10</td>\n",
       "      <td>Documentary,Music,Short</td>\n",
       "    </tr>\n",
       "    <tr>\n",
       "      <th>66398</th>\n",
       "      <td>tt0067758</td>\n",
       "      <td>movie</td>\n",
       "      <td>Simón, contamos contigo</td>\n",
       "      <td>Simón, contamos contigo</td>\n",
       "      <td>0</td>\n",
       "      <td>2015</td>\n",
       "      <td>\\N</td>\n",
       "      <td>81</td>\n",
       "      <td>Comedy,Drama</td>\n",
       "    </tr>\n",
       "  </tbody>\n",
       "</table>\n",
       "</div>"
      ],
      "text/plain": [
       "          tconst titleType             primaryTitle            originalTitle  \\\n",
       "11632  tt0011801     movie         Tötet nicht mehr         Tötet nicht mehr   \n",
       "49484  tt0050396     short            Final Curtain            Final Curtain   \n",
       "59192  tt0060361     short                 EMS nr 1                 EMS nr 1   \n",
       "63738  tt0065047     short    The Sun's Gonna Shine    The Sun's Gonna Shine   \n",
       "66398  tt0067758     movie  Simón, contamos contigo  Simón, contamos contigo   \n",
       "\n",
       "      isAdult  startYear endYear runtimeMinutes                   genres  \n",
       "11632       0       2019      \\N             \\N             Action,Crime  \n",
       "49484       0       2012      \\N             22             Horror,Short  \n",
       "59192       0       2016      \\N             14                    Short  \n",
       "63738       0       2014      \\N             10  Documentary,Music,Short  \n",
       "66398       0       2015      \\N             81             Comedy,Drama  "
      ]
     },
     "execution_count": 7,
     "metadata": {},
     "output_type": "execute_result"
    }
   ],
   "source": [
    "# Filter movies with years from 2010-2019\n",
    "years_df = df.loc[(df[\"startYear\"] >= 2010) & (df[\"startYear\"] <= 2019), :]\n",
    "years_df.head()"
   ]
  },
  {
   "cell_type": "code",
   "execution_count": 8,
   "id": "64f92cb6",
   "metadata": {},
   "outputs": [
    {
     "data": {
      "text/plain": [
       "tconst            3792225\n",
       "titleType         3792225\n",
       "primaryTitle      3792225\n",
       "originalTitle     3792225\n",
       "isAdult           3792225\n",
       "startYear         3792225\n",
       "endYear           3792225\n",
       "runtimeMinutes    3792225\n",
       "genres            3792225\n",
       "dtype: int64"
      ]
     },
     "execution_count": 8,
     "metadata": {},
     "output_type": "execute_result"
    }
   ],
   "source": [
    "years_df.count()"
   ]
  },
  {
   "cell_type": "code",
   "execution_count": null,
   "id": "61474104",
   "metadata": {},
   "outputs": [],
   "source": []
  },
  {
   "cell_type": "code",
   "execution_count": 9,
   "id": "74579c71",
   "metadata": {},
   "outputs": [],
   "source": [
    "# Filter movies by runtime "
   ]
  },
  {
   "cell_type": "code",
   "execution_count": 10,
   "id": "d90f7b61",
   "metadata": {},
   "outputs": [
    {
     "data": {
      "text/plain": [
       "tconst            1256271\n",
       "titleType         1256271\n",
       "primaryTitle      1256271\n",
       "originalTitle     1256271\n",
       "isAdult           1256271\n",
       "startYear         1256271\n",
       "endYear           1256271\n",
       "runtimeMinutes    1256271\n",
       "genres            1256271\n",
       "dtype: int64"
      ]
     },
     "execution_count": 10,
     "metadata": {},
     "output_type": "execute_result"
    }
   ],
   "source": [
    "# drop '\\\\N'\n",
    "years_df = years_df.loc[(years_df[\"runtimeMinutes\"] != '\\\\N'), :]\n",
    "years_df.count()"
   ]
  },
  {
   "cell_type": "code",
   "execution_count": 11,
   "id": "1944855d",
   "metadata": {},
   "outputs": [],
   "source": [
    "# Convert to int\n",
    "years_df['runtimeMinutes'] = years_df['runtimeMinutes'].astype(int)"
   ]
  },
  {
   "cell_type": "code",
   "execution_count": 12,
   "id": "195301fd",
   "metadata": {},
   "outputs": [
    {
     "data": {
      "text/html": [
       "<div>\n",
       "<style scoped>\n",
       "    .dataframe tbody tr th:only-of-type {\n",
       "        vertical-align: middle;\n",
       "    }\n",
       "\n",
       "    .dataframe tbody tr th {\n",
       "        vertical-align: top;\n",
       "    }\n",
       "\n",
       "    .dataframe thead th {\n",
       "        text-align: right;\n",
       "    }\n",
       "</style>\n",
       "<table border=\"1\" class=\"dataframe\">\n",
       "  <thead>\n",
       "    <tr style=\"text-align: right;\">\n",
       "      <th></th>\n",
       "      <th>tconst</th>\n",
       "      <th>titleType</th>\n",
       "      <th>primaryTitle</th>\n",
       "      <th>originalTitle</th>\n",
       "      <th>isAdult</th>\n",
       "      <th>startYear</th>\n",
       "      <th>endYear</th>\n",
       "      <th>runtimeMinutes</th>\n",
       "      <th>genres</th>\n",
       "    </tr>\n",
       "  </thead>\n",
       "  <tbody>\n",
       "    <tr>\n",
       "      <th>66398</th>\n",
       "      <td>tt0067758</td>\n",
       "      <td>movie</td>\n",
       "      <td>Simón, contamos contigo</td>\n",
       "      <td>Simón, contamos contigo</td>\n",
       "      <td>0</td>\n",
       "      <td>2015</td>\n",
       "      <td>\\N</td>\n",
       "      <td>81</td>\n",
       "      <td>Comedy,Drama</td>\n",
       "    </tr>\n",
       "    <tr>\n",
       "      <th>67657</th>\n",
       "      <td>tt0069049</td>\n",
       "      <td>movie</td>\n",
       "      <td>The Other Side of the Wind</td>\n",
       "      <td>The Other Side of the Wind</td>\n",
       "      <td>0</td>\n",
       "      <td>2018</td>\n",
       "      <td>\\N</td>\n",
       "      <td>122</td>\n",
       "      <td>Drama</td>\n",
       "    </tr>\n",
       "    <tr>\n",
       "      <th>98023</th>\n",
       "      <td>tt0100275</td>\n",
       "      <td>movie</td>\n",
       "      <td>The Wandering Soap Opera</td>\n",
       "      <td>La Telenovela Errante</td>\n",
       "      <td>0</td>\n",
       "      <td>2017</td>\n",
       "      <td>\\N</td>\n",
       "      <td>80</td>\n",
       "      <td>Comedy,Drama,Fantasy</td>\n",
       "    </tr>\n",
       "    <tr>\n",
       "      <th>105661</th>\n",
       "      <td>tt0108116</td>\n",
       "      <td>movie</td>\n",
       "      <td>Shepherd on the Rock</td>\n",
       "      <td>Shepherd on the Rock</td>\n",
       "      <td>0</td>\n",
       "      <td>2014</td>\n",
       "      <td>\\N</td>\n",
       "      <td>90</td>\n",
       "      <td>Drama</td>\n",
       "    </tr>\n",
       "    <tr>\n",
       "      <th>108890</th>\n",
       "      <td>tt0111414</td>\n",
       "      <td>movie</td>\n",
       "      <td>A Thin Life</td>\n",
       "      <td>A Thin Life</td>\n",
       "      <td>0</td>\n",
       "      <td>2018</td>\n",
       "      <td>\\N</td>\n",
       "      <td>75</td>\n",
       "      <td>Comedy</td>\n",
       "    </tr>\n",
       "  </tbody>\n",
       "</table>\n",
       "</div>"
      ],
      "text/plain": [
       "           tconst titleType                primaryTitle  \\\n",
       "66398   tt0067758     movie     Simón, contamos contigo   \n",
       "67657   tt0069049     movie  The Other Side of the Wind   \n",
       "98023   tt0100275     movie    The Wandering Soap Opera   \n",
       "105661  tt0108116     movie        Shepherd on the Rock   \n",
       "108890  tt0111414     movie                 A Thin Life   \n",
       "\n",
       "                     originalTitle isAdult  startYear endYear  runtimeMinutes  \\\n",
       "66398      Simón, contamos contigo       0       2015      \\N              81   \n",
       "67657   The Other Side of the Wind       0       2018      \\N             122   \n",
       "98023        La Telenovela Errante       0       2017      \\N              80   \n",
       "105661        Shepherd on the Rock       0       2014      \\N              90   \n",
       "108890                 A Thin Life       0       2018      \\N              75   \n",
       "\n",
       "                      genres  \n",
       "66398           Comedy,Drama  \n",
       "67657                  Drama  \n",
       "98023   Comedy,Drama,Fantasy  \n",
       "105661                 Drama  \n",
       "108890                Comedy  "
      ]
     },
     "execution_count": 12,
     "metadata": {},
     "output_type": "execute_result"
    }
   ],
   "source": [
    "# Filter rows for runtime of 60min - 240min\n",
    "# Can narrow down or widen\n",
    "# Gets rid of short films\n",
    "years_runtime_df = years_df.loc[(years_df[\"runtimeMinutes\"] >= 60) & (years_df[\"runtimeMinutes\"] <= 240), :]\n",
    "years_runtime_df.head()"
   ]
  },
  {
   "cell_type": "code",
   "execution_count": 13,
   "id": "2e700a85",
   "metadata": {},
   "outputs": [
    {
     "data": {
      "text/plain": [
       "tconst            255816\n",
       "titleType         255816\n",
       "primaryTitle      255816\n",
       "originalTitle     255816\n",
       "isAdult           255816\n",
       "startYear         255816\n",
       "endYear           255816\n",
       "runtimeMinutes    255816\n",
       "genres            255816\n",
       "dtype: int64"
      ]
     },
     "execution_count": 13,
     "metadata": {},
     "output_type": "execute_result"
    }
   ],
   "source": [
    "years_runtime_df.count()"
   ]
  },
  {
   "cell_type": "code",
   "execution_count": null,
   "id": "fef25f37",
   "metadata": {},
   "outputs": [],
   "source": []
  },
  {
   "cell_type": "code",
   "execution_count": 14,
   "id": "2d1858df",
   "metadata": {},
   "outputs": [],
   "source": [
    "# Title Type Column"
   ]
  },
  {
   "cell_type": "code",
   "execution_count": 15,
   "id": "86cbc588",
   "metadata": {},
   "outputs": [
    {
     "data": {
      "text/plain": [
       "titleType\n",
       "movie           115433\n",
       "tvEpisode        84010\n",
       "video            31278\n",
       "tvMovie          11632\n",
       "tvSeries          7237\n",
       "tvSpecial         4350\n",
       "tvMiniSeries      1787\n",
       "videoGame           55\n",
       "short               33\n",
       "tvShort              1\n",
       "Name: count, dtype: int64"
      ]
     },
     "execution_count": 15,
     "metadata": {},
     "output_type": "execute_result"
    }
   ],
   "source": [
    "# Lots of non-movie titles\n",
    "years_runtime_df['titleType'].value_counts()"
   ]
  },
  {
   "cell_type": "code",
   "execution_count": 16,
   "id": "d8ed4a45",
   "metadata": {},
   "outputs": [
    {
     "data": {
      "text/plain": [
       "tconst            115433\n",
       "titleType         115433\n",
       "primaryTitle      115433\n",
       "originalTitle     115433\n",
       "isAdult           115433\n",
       "startYear         115433\n",
       "endYear           115433\n",
       "runtimeMinutes    115433\n",
       "genres            115433\n",
       "dtype: int64"
      ]
     },
     "execution_count": 16,
     "metadata": {},
     "output_type": "execute_result"
    }
   ],
   "source": [
    "# Filters only by movie\n",
    "years_runtime_type_df = years_runtime_df.loc[(years_runtime_df[\"titleType\"] == 'movie'), :]\n",
    "years_runtime_type_df.count()"
   ]
  },
  {
   "cell_type": "code",
   "execution_count": 17,
   "id": "ccf4bb7a",
   "metadata": {},
   "outputs": [
    {
     "data": {
      "text/html": [
       "<div>\n",
       "<style scoped>\n",
       "    .dataframe tbody tr th:only-of-type {\n",
       "        vertical-align: middle;\n",
       "    }\n",
       "\n",
       "    .dataframe tbody tr th {\n",
       "        vertical-align: top;\n",
       "    }\n",
       "\n",
       "    .dataframe thead th {\n",
       "        text-align: right;\n",
       "    }\n",
       "</style>\n",
       "<table border=\"1\" class=\"dataframe\">\n",
       "  <thead>\n",
       "    <tr style=\"text-align: right;\">\n",
       "      <th></th>\n",
       "      <th>tconst</th>\n",
       "      <th>titleType</th>\n",
       "      <th>primaryTitle</th>\n",
       "      <th>originalTitle</th>\n",
       "      <th>isAdult</th>\n",
       "      <th>startYear</th>\n",
       "      <th>endYear</th>\n",
       "      <th>runtimeMinutes</th>\n",
       "      <th>genres</th>\n",
       "    </tr>\n",
       "  </thead>\n",
       "  <tbody>\n",
       "    <tr>\n",
       "      <th>66398</th>\n",
       "      <td>tt0067758</td>\n",
       "      <td>movie</td>\n",
       "      <td>Simón, contamos contigo</td>\n",
       "      <td>Simón, contamos contigo</td>\n",
       "      <td>0</td>\n",
       "      <td>2015</td>\n",
       "      <td>\\N</td>\n",
       "      <td>81</td>\n",
       "      <td>Comedy,Drama</td>\n",
       "    </tr>\n",
       "    <tr>\n",
       "      <th>67657</th>\n",
       "      <td>tt0069049</td>\n",
       "      <td>movie</td>\n",
       "      <td>The Other Side of the Wind</td>\n",
       "      <td>The Other Side of the Wind</td>\n",
       "      <td>0</td>\n",
       "      <td>2018</td>\n",
       "      <td>\\N</td>\n",
       "      <td>122</td>\n",
       "      <td>Drama</td>\n",
       "    </tr>\n",
       "    <tr>\n",
       "      <th>98023</th>\n",
       "      <td>tt0100275</td>\n",
       "      <td>movie</td>\n",
       "      <td>The Wandering Soap Opera</td>\n",
       "      <td>La Telenovela Errante</td>\n",
       "      <td>0</td>\n",
       "      <td>2017</td>\n",
       "      <td>\\N</td>\n",
       "      <td>80</td>\n",
       "      <td>Comedy,Drama,Fantasy</td>\n",
       "    </tr>\n",
       "    <tr>\n",
       "      <th>105661</th>\n",
       "      <td>tt0108116</td>\n",
       "      <td>movie</td>\n",
       "      <td>Shepherd on the Rock</td>\n",
       "      <td>Shepherd on the Rock</td>\n",
       "      <td>0</td>\n",
       "      <td>2014</td>\n",
       "      <td>\\N</td>\n",
       "      <td>90</td>\n",
       "      <td>Drama</td>\n",
       "    </tr>\n",
       "    <tr>\n",
       "      <th>108890</th>\n",
       "      <td>tt0111414</td>\n",
       "      <td>movie</td>\n",
       "      <td>A Thin Life</td>\n",
       "      <td>A Thin Life</td>\n",
       "      <td>0</td>\n",
       "      <td>2018</td>\n",
       "      <td>\\N</td>\n",
       "      <td>75</td>\n",
       "      <td>Comedy</td>\n",
       "    </tr>\n",
       "  </tbody>\n",
       "</table>\n",
       "</div>"
      ],
      "text/plain": [
       "           tconst titleType                primaryTitle  \\\n",
       "66398   tt0067758     movie     Simón, contamos contigo   \n",
       "67657   tt0069049     movie  The Other Side of the Wind   \n",
       "98023   tt0100275     movie    The Wandering Soap Opera   \n",
       "105661  tt0108116     movie        Shepherd on the Rock   \n",
       "108890  tt0111414     movie                 A Thin Life   \n",
       "\n",
       "                     originalTitle isAdult  startYear endYear  runtimeMinutes  \\\n",
       "66398      Simón, contamos contigo       0       2015      \\N              81   \n",
       "67657   The Other Side of the Wind       0       2018      \\N             122   \n",
       "98023        La Telenovela Errante       0       2017      \\N              80   \n",
       "105661        Shepherd on the Rock       0       2014      \\N              90   \n",
       "108890                 A Thin Life       0       2018      \\N              75   \n",
       "\n",
       "                      genres  \n",
       "66398           Comedy,Drama  \n",
       "67657                  Drama  \n",
       "98023   Comedy,Drama,Fantasy  \n",
       "105661                 Drama  \n",
       "108890                Comedy  "
      ]
     },
     "execution_count": 17,
     "metadata": {},
     "output_type": "execute_result"
    }
   ],
   "source": [
    "years_runtime_type_df.head()"
   ]
  },
  {
   "cell_type": "code",
   "execution_count": null,
   "id": "44c6ccc4",
   "metadata": {},
   "outputs": [],
   "source": []
  },
  {
   "cell_type": "code",
   "execution_count": 18,
   "id": "544818b6",
   "metadata": {},
   "outputs": [],
   "source": [
    "# Gets list titles with all criteria"
   ]
  },
  {
   "cell_type": "code",
   "execution_count": 19,
   "id": "6c86e4b8",
   "metadata": {},
   "outputs": [],
   "source": [
    "df_final = years_runtime_type_df"
   ]
  },
  {
   "cell_type": "code",
   "execution_count": 20,
   "id": "840766e8",
   "metadata": {},
   "outputs": [],
   "source": [
    "df_final = df_final['primaryTitle']"
   ]
  },
  {
   "cell_type": "code",
   "execution_count": 21,
   "id": "1a5e7976",
   "metadata": {},
   "outputs": [
    {
     "data": {
      "text/plain": [
       "66398                                 Simón, contamos contigo\n",
       "67657                              The Other Side of the Wind\n",
       "98023                                The Wandering Soap Opera\n",
       "105661                                   Shepherd on the Rock\n",
       "108890                                            A Thin Life\n",
       "                                  ...                        \n",
       "11227817                         The Mystery of a Buryat Lama\n",
       "11227831                                           Drømmeland\n",
       "11227842    Illenau - die Geschichte einer ehemaligen Heil...\n",
       "11228012                                  Kuambil Lagi Hatiku\n",
       "11228102                                               6 Gunn\n",
       "Name: primaryTitle, Length: 115433, dtype: object"
      ]
     },
     "execution_count": 21,
     "metadata": {},
     "output_type": "execute_result"
    }
   ],
   "source": [
    "df_final"
   ]
  },
  {
   "cell_type": "code",
   "execution_count": 22,
   "id": "442cb4ae",
   "metadata": {},
   "outputs": [
    {
     "data": {
      "text/plain": [
       "115433"
      ]
     },
     "execution_count": 22,
     "metadata": {},
     "output_type": "execute_result"
    }
   ],
   "source": [
    "len(df_final)"
   ]
  },
  {
   "cell_type": "code",
   "execution_count": null,
   "id": "54f1ba56",
   "metadata": {},
   "outputs": [],
   "source": []
  }
 ],
 "metadata": {
  "kernelspec": {
   "display_name": "Python 3 (ipykernel)",
   "language": "python",
   "name": "python3"
  },
  "language_info": {
   "codemirror_mode": {
    "name": "ipython",
    "version": 3
   },
   "file_extension": ".py",
   "mimetype": "text/x-python",
   "name": "python",
   "nbconvert_exporter": "python",
   "pygments_lexer": "ipython3",
   "version": "3.11.5"
  }
 },
 "nbformat": 4,
 "nbformat_minor": 5
}
